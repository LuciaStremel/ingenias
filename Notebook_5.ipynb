{
  "nbformat": 4,
  "nbformat_minor": 0,
  "metadata": {
    "kernelspec": {
      "display_name": "Python 3",
      "language": "python",
      "name": "python3"
    },
    "language_info": {
      "codemirror_mode": {
        "name": "ipython",
        "version": 3
      },
      "file_extension": ".py",
      "mimetype": "text/x-python",
      "name": "python",
      "nbconvert_exporter": "python",
      "pygments_lexer": "ipython3",
      "version": "3.7.3"
    },
    "colab": {
      "provenance": [],
      "include_colab_link": true
    }
  },
  "cells": [
    {
      "cell_type": "markdown",
      "metadata": {
        "id": "view-in-github",
        "colab_type": "text"
      },
      "source": [
        "<a href=\"https://colab.research.google.com/github/LuciaStremel/ingenias/blob/main/Notebook_5.ipynb\" target=\"_parent\"><img src=\"https://colab.research.google.com/assets/colab-badge.svg\" alt=\"Open In Colab\"/></a>"
      ]
    },
    {
      "cell_type": "markdown",
      "metadata": {
        "id": "Gp2WddtV9IwG"
      },
      "source": [
        "# Programa Ingenias+ Data Science"
      ]
    },
    {
      "cell_type": "markdown",
      "metadata": {
        "id": "H4M1yVbf9IwH"
      },
      "source": [
        "Como dijimos en clases anteriores, Python tiene implementadas muchas librerias para poder trabajar con datos. En la clase de hoy trabajaremos con una de ellas: `Numpy`."
      ]
    },
    {
      "cell_type": "markdown",
      "metadata": {
        "id": "GdTT8WeL9IwI"
      },
      "source": [
        "Antes de comenzar, vamos a hablar un poco de esta libreria o modulo.\n",
        "\n",
        "**Numpy** es una librería optimizada para realizar cálculos numéricos con vectores y matrices. A diferencia de otros lenguajes de programación, Python no posee en su estructura central la figura de matrices. Eso quiere decir que para poder trabajar con esta estructura de datos deberiamos trabajar con listas de listas. NumPy introduce el concepto de arrays o matrices."
      ]
    },
    {
      "cell_type": "markdown",
      "metadata": {
        "id": "qWkq3EHK9IwK"
      },
      "source": [
        "Al ser de código abierto, `numpy` posee una documentación muy amplia que es **SIEMPRE RECOMENDABLE** consultar."
      ]
    },
    {
      "cell_type": "markdown",
      "metadata": {
        "id": "nxe3KLUO9IwL"
      },
      "source": [
        "- [Documentacion NumPy](https://devdocs.io/numpy/)"
      ]
    },
    {
      "cell_type": "markdown",
      "metadata": {
        "id": "l1Ay3nSs9IwN"
      },
      "source": [
        "## Clase 4: Introduccion a NumPy"
      ]
    },
    {
      "cell_type": "markdown",
      "metadata": {
        "id": "X03mviQS9IyL"
      },
      "source": [
        "# Ejercicios\n",
        "\n",
        "1. Crear un arreglo de ceros de longitud 12\n",
        "2. Crear un arreglo de longitud 10 con ceros en todas sus posiciones y un 10 en la posición número 5\n",
        "3. Crear un arreglo que tenga los números del 10 al 49\n",
        "4. Crear una arreglo 2d de shape (3, 3) que tenga los números del 0 al 8\n",
        "5. Crear un arreglo de números aleatorios de longitud 100 y obtener su media y varianza\n",
        "6. Calcular la media de un arreglo usando np.sum\n",
        "7. Calcular la varianza de un arreglo usando np.sum y np.mean\n",
        "8. Crear un array de números aleatorios usando np.random.randn.\n"
      ]
    },
    {
      "cell_type": "markdown",
      "source": [
        "1. Crea un arreglo de ceros de longitud 12"
      ],
      "metadata": {
        "id": "qysncFS398z1"
      }
    },
    {
      "cell_type": "code",
      "source": [
        "import numpy as np\n",
        "arreglo = np.zeros(12)\n",
        "print(arreglo)"
      ],
      "metadata": {
        "colab": {
          "base_uri": "https://localhost:8080/"
        },
        "id": "MjRjlSl3-CVW",
        "outputId": "76365d62-e54d-49ab-b01b-aa1f20c42024"
      },
      "execution_count": 1,
      "outputs": [
        {
          "output_type": "stream",
          "name": "stdout",
          "text": [
            "[0. 0. 0. 0. 0. 0. 0. 0. 0. 0. 0. 0.]\n"
          ]
        }
      ]
    },
    {
      "cell_type": "markdown",
      "source": [
        "2. Crea un arreglo de longitud 10 con ceros en todas sus posiciones y un 10 en la posicion numero 5"
      ],
      "metadata": {
        "id": "6YpgxISW-DcG"
      }
    },
    {
      "cell_type": "code",
      "metadata": {
        "id": "G0NMKT609IyM",
        "colab": {
          "base_uri": "https://localhost:8080/"
        },
        "outputId": "a5e3094b-b509-4981-85a9-a4e8865a06b0"
      },
      "source": [
        "arreglo2 =np.zeros(10)\n",
        "arreglo2[4] = 10\n",
        "print(arreglo2)"
      ],
      "execution_count": 3,
      "outputs": [
        {
          "output_type": "stream",
          "name": "stdout",
          "text": [
            "[ 0.  0.  0.  0. 10.  0.  0.  0.  0.  0.]\n"
          ]
        }
      ]
    },
    {
      "cell_type": "markdown",
      "source": [
        "3. Crea un arreglo que tenga los numeros del 10 al 49"
      ],
      "metadata": {
        "id": "WQJc0rJi-Psk"
      }
    },
    {
      "cell_type": "code",
      "source": [
        "arreglo3 = np.arange (10,50)\n",
        "print(arreglo3)\n"
      ],
      "metadata": {
        "colab": {
          "base_uri": "https://localhost:8080/"
        },
        "id": "73zRIiqvBASH",
        "outputId": "6ed9f21d-f213-40cd-8fcf-d3cdc9acc937"
      },
      "execution_count": 6,
      "outputs": [
        {
          "output_type": "stream",
          "name": "stdout",
          "text": [
            "[10 11 12 13 14 15 16 17 18 19 20 21 22 23 24 25 26 27 28 29 30 31 32 33\n",
            " 34 35 36 37 38 39 40 41 42 43 44 45 46 47 48 49]\n"
          ]
        }
      ]
    },
    {
      "cell_type": "markdown",
      "source": [
        "4. Crear una arreglo 2d de shape (3, 3) que tenga los números del 0 al 8"
      ],
      "metadata": {
        "id": "tUvUBG7l-skc"
      }
    },
    {
      "cell_type": "code",
      "source": [
        "arreglo4 = np.arange (0,9)\n",
        "arreglo2d = arreglo4.reshape(3,3)\n",
        "print (arreglo2d)"
      ],
      "metadata": {
        "colab": {
          "base_uri": "https://localhost:8080/"
        },
        "id": "1-7gy9GECtCr",
        "outputId": "6be53539-3398-481e-d1b1-4b5c5b2046ea"
      },
      "execution_count": 11,
      "outputs": [
        {
          "output_type": "stream",
          "name": "stdout",
          "text": [
            "[[0 1 2]\n",
            " [3 4 5]\n",
            " [6 7 8]]\n"
          ]
        }
      ]
    },
    {
      "cell_type": "markdown",
      "source": [
        "5. Crear un arreglo de números aleatorios de longitud 100 y obtener su media y varianza\n"
      ],
      "metadata": {
        "id": "RG2ibkPt--y1"
      }
    },
    {
      "cell_type": "code",
      "source": [
        "arreglo5 =np.random.random(100)\n",
        "media = np.mean(arreglo5)\n",
        "varianza = np.var(arreglo5)\n",
        "print (media)\n",
        "print (varianza)"
      ],
      "metadata": {
        "colab": {
          "base_uri": "https://localhost:8080/"
        },
        "id": "alGAK6oWD21Z",
        "outputId": "841330a9-a8cd-4059-a9f0-f893dbea59f2"
      },
      "execution_count": 12,
      "outputs": [
        {
          "output_type": "stream",
          "name": "stdout",
          "text": [
            "0.5051587396450742\n",
            "0.08329635114739328\n"
          ]
        }
      ]
    },
    {
      "cell_type": "markdown",
      "source": [
        "6. Calcular la media de un arreglo usando np.sum\n"
      ],
      "metadata": {
        "id": "4TfRjeMk_E75"
      }
    },
    {
      "cell_type": "code",
      "source": [
        "arreglo6 = np.random.random(50)\n",
        "media =np.sum(arreglo6)/len(arreglo6)\n",
        "print (media)"
      ],
      "metadata": {
        "colab": {
          "base_uri": "https://localhost:8080/"
        },
        "id": "-R5KHCZoEyrf",
        "outputId": "b69755a7-b6dd-4225-8bfa-bbbe7c869aac"
      },
      "execution_count": 13,
      "outputs": [
        {
          "output_type": "stream",
          "name": "stdout",
          "text": [
            "0.4443439824409434\n"
          ]
        }
      ]
    },
    {
      "cell_type": "markdown",
      "source": [
        "7. Calcular la varianza de un arreglo usando np.sum y np.mean"
      ],
      "metadata": {
        "id": "tEJbZ4XG_KDx"
      }
    },
    {
      "cell_type": "code",
      "source": [
        "arreglo7 = np.random.random(100)\n",
        "media = np.mean(arreglo7)\n",
        "varianza = np.sum((arreglo7 - media)**2)/len(arreglo7)\n",
        "print (varianza)"
      ],
      "metadata": {
        "colab": {
          "base_uri": "https://localhost:8080/"
        },
        "id": "zrHL1t4hFZ1l",
        "outputId": "9eb6f2cb-d498-41e7-f39d-21a6fcdc6bb5"
      },
      "execution_count": 14,
      "outputs": [
        {
          "output_type": "stream",
          "name": "stdout",
          "text": [
            "0.07675574216000167\n"
          ]
        }
      ]
    },
    {
      "cell_type": "markdown",
      "source": [
        "8. Crear un array de números aleatorios usando np.random.randn."
      ],
      "metadata": {
        "id": "SC2PlQTP_SHT"
      }
    },
    {
      "cell_type": "code",
      "source": [
        "arreglo8 = np.random.rand (15)\n",
        "print (arreglo8)"
      ],
      "metadata": {
        "colab": {
          "base_uri": "https://localhost:8080/"
        },
        "id": "wA3_0v5LGM_9",
        "outputId": "485e65c7-c9cd-4948-f103-c6eca5d0449e"
      },
      "execution_count": 15,
      "outputs": [
        {
          "output_type": "stream",
          "name": "stdout",
          "text": [
            "[0.85424471 0.79266028 0.16271304 0.89575232 0.12330644 0.20542089\n",
            " 0.44110213 0.97630947 0.16075247 0.28027718 0.48702707 0.63918096\n",
            " 0.8082536  0.54310604 0.4662066 ]\n"
          ]
        }
      ]
    }
  ]
}